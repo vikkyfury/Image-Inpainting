{
  "nbformat": 4,
  "nbformat_minor": 0,
  "metadata": {
    "colab": {
      "provenance": []
    },
    "kernelspec": {
      "name": "python3",
      "display_name": "Python 3"
    },
    "language_info": {
      "name": "python"
    }
  },
  "cells": [
    {
      "cell_type": "code",
      "execution_count": 9,
      "metadata": {
        "colab": {
          "base_uri": "https://localhost:8080/"
        },
        "id": "KF97otH9CPpv",
        "outputId": "96eae918-2a97-4a91-cad3-12218198bfb7"
      },
      "outputs": [
        {
          "output_type": "stream",
          "name": "stdout",
          "text": [
            "Enter the location of the image: /content/catact.jpeg\n",
            "Enter the task (inpainting or superresolution): superresolution\n",
            "Performing super resolution on image\n",
            "1/1 [==============================] - 3s 3s/step\n"
          ]
        }
      ],
      "source": [
        "import keras\n",
        "import cv2\n",
        "import numpy as np\n",
        "import sys\n",
        "\n",
        "loc = input(\"Enter the location of the image: \")\n",
        "task = input(\"Enter the task (inpainting or superresolution): \")\n",
        "img = cv2.imread(loc)\n",
        "\n",
        "def super_res(image):\n",
        "    if image.shape != (64,64,3):\n",
        "        image = cv2.resize(image, (64,64))\n",
        "    img = image / 127.5 - 1\n",
        "    img = np.resize(img, (1, img.shape[0], img.shape[1], img.shape[2]))\n",
        "    json_file = open(\"/content/saved_models/generator.json\", 'r')\n",
        "    loaded_model_json = json_file.read()\n",
        "    json_file.close()\n",
        "    superres_genmodel = keras.models.model_from_json(loaded_model_json)\n",
        "    superres_genmodel.load_weights(\"/content/saved_models/generator_weights.hdf5\")\n",
        "    predimg = superres_genmodel.predict(img)\n",
        "    predimg = predimg.reshape(predimg.shape[1:])\n",
        "    predimg = predimg * 127.5 + 1\n",
        "    predimg = predimg.astype(np.uint8)\n",
        "    cv2.imwrite(\"super_res_output.jpg\", predimg)\n",
        "    return predimg\n",
        "\n",
        "def img_inpainting(image):\n",
        "    json_file = open(\"/content/saved_model/generator.json\", \"r\")\n",
        "    loaded_model_json = json_file.read()\n",
        "    json_file.close()\n",
        "    inpainting_genmodel = keras.models.model_from_json(loaded_model_json)\n",
        "    inpainting_genmodel.load_weights(\"/content/saved_model/generator.weights.h5\")\n",
        "\n",
        "    def mask_randomly(imgs):\n",
        "        img_rows = 32\n",
        "        img_cols = 32\n",
        "        mask_height = 8\n",
        "        mask_width = 8\n",
        "\n",
        "        y1 = np.random.randint(0, img_rows - mask_height)\n",
        "        y2 = y1 + mask_height\n",
        "        x1 = np.random.randint(0, img_cols - mask_width)\n",
        "        x2 = x1 + mask_width\n",
        "\n",
        "        masked_img = np.empty_like(imgs)\n",
        "        missing_parts = np.empty((imgs.shape[0], mask_height, mask_width, 3))\n",
        "\n",
        "        masked_img = imgs[0].copy()\n",
        "        _y1, _y2, _x1, _x2 = y1, y2, x1, x2\n",
        "        missing_parts[0] = masked_img[_y1:_y2, _x1:_x2, :].copy()\n",
        "        masked_img[_y1:_y2, _x1:_x2, :] = 0\n",
        "        masked_img = masked_img.reshape(1, masked_img.shape[0], masked_img.shape[1], masked_img.shape[2])\n",
        "        return masked_img, missing_parts, (y1, y2, x1, x2)\n",
        "\n",
        "    if image.shape != (32,32,3):\n",
        "        image = cv2.resize(image, (32,32))\n",
        "    img2 = image.reshape(1, image.shape[0], image.shape[1], image.shape[2])\n",
        "    img2 = img2 / 127.5 - 1.\n",
        "    masked_imgs, missing_parts, (y1, y2, x1, x2) = mask_randomly(img2)\n",
        "    predimg = inpainting_genmodel.predict(masked_imgs)\n",
        "    predimgreshape = predimg.reshape(predimg.shape[1], predimg.shape[2], predimg.shape[3])\n",
        "    newpred = predimgreshape * 127.5\n",
        "    newpreduint = newpred.astype(np.uint8)\n",
        "    masked_imgreshape = masked_imgs.reshape(masked_imgs.shape[1], masked_imgs.shape[2], masked_imgs.shape[3])\n",
        "    masked_img2 = (masked_imgreshape + 1) * 127.5\n",
        "    masked_img2 = masked_img2.astype(np.uint8)\n",
        "\n",
        "    cv2.imwrite(\"maskedimage.jpg\", masked_img2)\n",
        "    masked_img2[y1:y2, x1:x2, :] = newpreduint\n",
        "    cv2.imwrite(\"predictedimage_inpainting.jpg\", masked_img2)\n",
        "\n",
        "if task == \"inpainting\":\n",
        "    print(\"Performing inpainting on image\")\n",
        "    img_inpainting(img)\n",
        "elif task == \"superresolution\":\n",
        "    print(\"Performing super resolution on image\")\n",
        "    super_res(img)\n",
        "else:\n",
        "    print(\"Invalid task\")"
      ]
    },
    {
      "cell_type": "code",
      "source": [],
      "metadata": {
        "id": "eRQ_aGlyCqE9"
      },
      "execution_count": null,
      "outputs": []
    }
  ]
}